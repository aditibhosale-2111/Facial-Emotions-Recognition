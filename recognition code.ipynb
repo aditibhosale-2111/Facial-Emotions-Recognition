{
 "cells": [
  {
   "cell_type": "code",
   "execution_count": 1,
   "id": "5625a441-b82f-454c-8761-21645b6df20d",
   "metadata": {},
   "outputs": [],
   "source": [
    "import cv2"
   ]
  },
  {
   "cell_type": "code",
   "execution_count": null,
   "id": "3b4b3f47-3b4f-4e09-b404-6b7c9a8ce6ff",
   "metadata": {},
   "outputs": [],
   "source": [
    "!pip install deepface\n"
   ]
  },
  {
   "cell_type": "code",
   "execution_count": null,
   "id": "acf2967b-f89f-4805-bc87-e1bfcec42c23",
   "metadata": {},
   "outputs": [],
   "source": [
    "pip install tf-keras"
   ]
  },
  {
   "cell_type": "code",
   "execution_count": null,
   "id": "acb9f192-a52e-4ef6-8a51-ccdbabc1fc94",
   "metadata": {},
   "outputs": [],
   "source": [
    "from deepface import DeepFace"
   ]
  },
  {
   "cell_type": "code",
   "execution_count": 4,
   "id": "c8c2baf1-a71e-494b-adc3-1b4911d82e0f",
   "metadata": {},
   "outputs": [
    {
     "name": "stdout",
     "output_type": "stream",
     "text": [
      "Starting real-time emotion recognition. Press 'q' to exit.\n"
     ]
    }
   ],
   "source": [
    "import cv2\n",
    "from deepface import DeepFace\n",
    "import numpy as np\n",
    "\n",
    "# Initialize webcam\n",
    "cap = cv2.VideoCapture(0)\n",
    "\n",
    "print(\"Starting real-time emotion recognition. Press 'q' to exit.\")\n",
    "\n",
    "while True:\n",
    "    ret, frame = cap.read()\n",
    "    if not ret:\n",
    "        print(\"Failed to grab frame.\")\n",
    "        break\n",
    "\n",
    "    try:\n",
    "        # Analyze the frame with DeepFace (emotion only for speed)\n",
    "        result = DeepFace.analyze(frame, actions=['emotion'], enforce_detection=False)\n",
    "\n",
    "        # Loop through all detected faces\n",
    "        for face in result:\n",
    "            # Get emotion and region (bounding box)\n",
    "            emotion = face['dominant_emotion']\n",
    "            x, y, w, h = face['region']['x'], face['region']['y'], face['region']['w'], face['region']['h']\n",
    "\n",
    "            # Draw rectangle around face\n",
    "            cv2.rectangle(frame, (x, y), (x + w, y + h), (255, 0, 0), 2)\n",
    "\n",
    "            # Display emotion label\n",
    "            cv2.putText(frame, emotion, (x, y - 10),\n",
    "                        cv2.FONT_HERSHEY_SIMPLEX, 0.9, (0, 255, 0), 2)\n",
    "\n",
    "    except Exception as e:\n",
    "        # Print any errors (usually if no face is found)\n",
    "        print(\"No face detected or error:\", e)\n",
    "\n",
    "    # Show the frame with emotion label\n",
    "    cv2.imshow('Real-Time Facial Emotion Recognition', frame)\n",
    "\n",
    "    # Press 'q' to quit\n",
    "    if cv2.waitKey(1) & 0xFF == ord('q'):\n",
    "        break\n",
    "\n",
    "# Cleanup\n",
    "cap.release()\n",
    "cv2.destroyAllWindows()\n",
    "\n"
   ]
  },
  {
   "cell_type": "code",
   "execution_count": null,
   "id": "3ab74c3d-d52c-4baf-9abc-076e882a2ade",
   "metadata": {},
   "outputs": [],
   "source": []
  },
  {
   "cell_type": "code",
   "execution_count": null,
   "id": "2e187789-8e68-4f65-aca0-0c2a36373fda",
   "metadata": {},
   "outputs": [],
   "source": []
  }
 ],
 "metadata": {
  "kernelspec": {
   "display_name": "Python 3 (ipykernel)",
   "language": "python",
   "name": "python3"
  },
  "language_info": {
   "codemirror_mode": {
    "name": "ipython",
    "version": 3
   },
   "file_extension": ".py",
   "mimetype": "text/x-python",
   "name": "python",
   "nbconvert_exporter": "python",
   "pygments_lexer": "ipython3",
   "version": "3.13.5"
  }
 },
 "nbformat": 4,
 "nbformat_minor": 5
}
